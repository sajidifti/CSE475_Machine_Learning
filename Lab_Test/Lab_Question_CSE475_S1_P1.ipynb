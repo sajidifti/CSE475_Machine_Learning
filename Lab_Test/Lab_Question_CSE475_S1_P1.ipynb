{
  "cells": [
    {
      "cell_type": "markdown",
      "metadata": {
        "id": "YMl5XtRpCaVQ"
      },
      "source": [
        "# **Lab Question Part 1 CSE475**"
      ]
    },
    {
      "cell_type": "markdown",
      "metadata": {
        "id": "1ocAfEtETshT"
      },
      "source": [
        "All the datasets are uploaded to Google Drive and linked with this colab file, you can directly access those datasets, or you can download, However you have to take necessary steps to load and read datasets.\n",
        "\n",
        "For example, if you upload your dataset in your drive, you have to connect with your drive for do this run the drive.mount()\n",
        "\n",
        "For this part, you should spend 30 minutes only. No more than extra time will be given."
      ]
    },
    {
      "cell_type": "code",
      "execution_count": 1,
      "metadata": {
        "id": "lm4mZuysT-BG"
      },
      "outputs": [],
      "source": [
        "# from google.colab import drive\n",
        "# drive.mount('/content/drive')"
      ]
    },
    {
      "cell_type": "markdown",
      "metadata": {
        "id": "qZL98SUM1D5x"
      },
      "source": [
        "# Part 1"
      ]
    },
    {
      "cell_type": "markdown",
      "metadata": {
        "id": "keZ2C6xk7GuH"
      },
      "source": [
        "Instantiate an indexing object by using the Index() function from recordlinkage.\n",
        "\n",
        "Block your pairing on cuisine_type by using indexer's' .block() method.\n",
        "\n",
        "Generate pairs by indexing [restaurants](https://drive.google.com/file/d/1eHR7sQ6UJ-165wxbHURafLekziO8pzBU/view?usp=sharing) and [restaurants_new](https://drive.google.com/file/d/1oi4gCbaM95-PQYIOGPV2U_IMwaaUtYRW/view?usp=sharing) in that order.\n",
        "\n",
        "Hint: Cleaning Data Assignment"
      ]
    },
    {
      "cell_type": "code",
      "execution_count": 9,
      "metadata": {
        "id": "VBvshN1L4h7i"
      },
      "outputs": [
        {
          "name": "stdout",
          "output_type": "stream",
          "text": [
            "MultiIndex([( 0,   0),\n",
            "            ( 0,   1),\n",
            "            ( 0,   2),\n",
            "            ( 0,   3),\n",
            "            ( 0,   4),\n",
            "            ( 0,   8),\n",
            "            ( 0,   9),\n",
            "            ( 0,  13),\n",
            "            ( 0,  14),\n",
            "            ( 0,  17),\n",
            "            ...\n",
            "            (55, 172),\n",
            "            (55, 180),\n",
            "            (55, 190),\n",
            "            (55, 194),\n",
            "            (55, 201),\n",
            "            (55, 221),\n",
            "            (55, 230),\n",
            "            (55, 233),\n",
            "            (55, 238),\n",
            "            (55, 241)],\n",
            "           length=3631)\n"
          ]
        }
      ],
      "source": [
        "import pandas as pd\n",
        "import recordlinkage\n",
        "\n",
        "restaurants_L2_dirty = pd.read_csv(\"restaurants_L2_dirty.csv\")\n",
        "restaurants_L2 = pd.read_csv(\"restaurants_L2.csv\")\n",
        "\n",
        "indexer = recordlinkage.Index()\n",
        "\n",
        "indexer.block(\"type\")\n",
        "\n",
        "pairs = indexer.index(restaurants_L2_dirty, restaurants_L2)\n",
        "\n",
        "print(pairs)"
      ]
    },
    {
      "cell_type": "markdown",
      "metadata": {
        "id": "tEHswUG87NNL"
      },
      "source": [
        "Load the [audible_raw.csv](https://drive.google.com/file/d/1nU7pwDMSBG7KgIN_uJUhVRTSR4CBHdVh/view?usp=sharing) file and create a dataframe called audible\n",
        "\n",
        "Remove 'Writtenby:' from the author column\n",
        "\n",
        "Remove 'Narratedby:' from the narrator column\n",
        "\n",
        "Check the results"
      ]
    },
    {
      "cell_type": "code",
      "execution_count": 3,
      "metadata": {
        "id": "VXEXI9YH7NNM"
      },
      "outputs": [
        {
          "name": "stdout",
          "output_type": "stream",
          "text": [
            "                                         name           author  \\\n",
            "0                  Geronimo Stilton #11 & #12  GeronimoStilton   \n",
            "1                            The Burning Maze      RickRiordan   \n",
            "2                                The Deep End       JeffKinney   \n",
            "3                        Daughter of the Deep      RickRiordan   \n",
            "4  The Lightning Thief: Percy Jackson, Book 1      RickRiordan   \n",
            "\n",
            "         narrator                time releasedate language  \\\n",
            "0      BillLobely   2 hrs and 20 mins    04-08-08  English   \n",
            "1   RobbieDaymond   13 hrs and 8 mins    01-05-18  English   \n",
            "2      DanRussell    2 hrs and 3 mins    06-11-20  English   \n",
            "3  SoneelaNankani  11 hrs and 16 mins    05-10-21  English   \n",
            "4  JesseBernstein              10 hrs    13-01-10  English   \n",
            "\n",
            "                           stars   price  \n",
            "0     5 out of 5 stars34 ratings  468.00  \n",
            "1   4.5 out of 5 stars41 ratings  820.00  \n",
            "2   4.5 out of 5 stars38 ratings  410.00  \n",
            "3   4.5 out of 5 stars12 ratings  615.00  \n",
            "4  4.5 out of 5 stars181 ratings  820.00  \n"
          ]
        }
      ],
      "source": [
        "import pandas as pd\n",
        "\n",
        "audible = pd.read_csv(\"audible_raw.csv\")\n",
        "\n",
        "audible[\"author\"] = audible[\"author\"].str.replace(\"Writtenby:\", \"\")\n",
        "\n",
        "audible[\"narrator\"] = audible[\"narrator\"].str.replace(\"Narratedby:\", \"\")\n",
        "\n",
        "print(audible.head())"
      ]
    },
    {
      "cell_type": "markdown",
      "metadata": {
        "id": "5iBKNMDK5vBG"
      },
      "source": [
        "use .str.extract() to get the number of stars and the number of ratings into their own columns.\n",
        "\n",
        "Extract the number of stars into the rating_stars column\n",
        "Extract the number of ratings into the n_ratings column\n",
        "Convert both new columns to float\n",
        "What you have to do?\n",
        "\n",
        "Extract number of stars into rating_stars and turn into float\n",
        "\n",
        "Replace the comma, extract number of ratings into n_ratings and turn into float\n",
        "\n",
        "Examine the new rating_stars and n_ratings columns"
      ]
    },
    {
      "cell_type": "code",
      "execution_count": 7,
      "metadata": {
        "id": "r16Nr5VU5vBG"
      },
      "outputs": [
        {
          "name": "stdout",
          "output_type": "stream",
          "text": [
            "   rating_stars  n_ratings\n",
            "0           5.0       34.0\n",
            "1           4.5       41.0\n",
            "2           4.5       38.0\n",
            "3           4.5       12.0\n",
            "4           4.5      181.0\n"
          ]
        }
      ],
      "source": [
        "audible[\"rating_stars\"] = audible[\"stars\"].str.extract(\"(\\d+\\.\\d+|\\d+)\").astype(float)\n",
        "\n",
        "audible[\"n_ratings\"] = audible[\"stars\"].str.extract(\"(\\d+)\\s+ratings\").astype(float)\n",
        "\n",
        "print(audible[[\"rating_stars\", \"n_ratings\"]].head())"
      ]
    }
  ],
  "metadata": {
    "colab": {
      "provenance": []
    },
    "kernelspec": {
      "display_name": "Python 3",
      "name": "python3"
    },
    "language_info": {
      "codemirror_mode": {
        "name": "ipython",
        "version": 3
      },
      "file_extension": ".py",
      "mimetype": "text/x-python",
      "name": "python",
      "nbconvert_exporter": "python",
      "pygments_lexer": "ipython3",
      "version": "3.11.6"
    }
  },
  "nbformat": 4,
  "nbformat_minor": 0
}
